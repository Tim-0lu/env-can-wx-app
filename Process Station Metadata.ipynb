{
 "cells": [
  {
   "cell_type": "code",
   "execution_count": 134,
   "metadata": {},
   "outputs": [],
   "source": [
    "import pandas as pd\n",
    "import numpy as np"
   ]
  },
  {
   "cell_type": "code",
   "execution_count": 135,
   "metadata": {},
   "outputs": [],
   "source": [
    "df = pd.read_csv('station-metadata-raw.csv',skiprows=3)"
   ]
  },
  {
   "cell_type": "code",
   "execution_count": 136,
   "metadata": {},
   "outputs": [],
   "source": [
    "def process_data(data):\n",
    "    data.drop(columns=['WMO ID','TC ID','Latitude','Longitude'],inplace=True)\n",
    "    data.rename(columns={'Latitude (Decimal Degrees)':'Latitude',\n",
    "                         'Longitude (Decimal Degrees)':'Longitude',\n",
    "                         'Elevation (m)':'Elevation'},inplace=True)\n",
    "    data.replace(np.nan,-999,inplace=True)\n",
    "    col_float_to_int = ['Elevation', 'First Year', 'Last Year', 'HLY First Year',\n",
    "                        'HLY Last Year', 'DLY First Year', 'DLY Last Year', 'MLY First Year','MLY Last Year']\n",
    "    data[col_float_to_int] = data[col_float_to_int].astype(int)\n",
    "    return data\n",
    "df_proc = process_data(df)"
   ]
  },
  {
   "cell_type": "code",
   "execution_count": 137,
   "metadata": {},
   "outputs": [],
   "source": [
    "df_proc.to_csv('station-metadata-processed.csv',index=False)"
   ]
  },
  {
   "cell_type": "code",
   "execution_count": null,
   "metadata": {},
   "outputs": [],
   "source": []
  },
  {
   "cell_type": "code",
   "execution_count": null,
   "metadata": {},
   "outputs": [],
   "source": []
  },
  {
   "cell_type": "code",
   "execution_count": null,
   "metadata": {},
   "outputs": [],
   "source": []
  },
  {
   "cell_type": "code",
   "execution_count": null,
   "metadata": {},
   "outputs": [],
   "source": []
  }
 ],
 "metadata": {
  "kernelspec": {
   "display_name": "Python 3",
   "language": "python",
   "name": "python3"
  },
  "language_info": {
   "codemirror_mode": {
    "name": "ipython",
    "version": 3
   },
   "file_extension": ".py",
   "mimetype": "text/x-python",
   "name": "python",
   "nbconvert_exporter": "python",
   "pygments_lexer": "ipython3",
   "version": "3.7.4"
  }
 },
 "nbformat": 4,
 "nbformat_minor": 2
}
